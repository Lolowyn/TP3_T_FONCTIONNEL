{
 "cells": [
  {
   "cell_type": "code",
   "execution_count": null,
   "id": "38999759-4ac7-4d03-92e0-d0544ae2dc0d",
   "metadata": {},
   "outputs": [],
   "source": [
    "#CELL 1 - IMPORTS & CHANGEMENT"
   ]
  },
  {
   "cell_type": "code",
   "execution_count": null,
   "id": "8ecbe900-1197-454a-83cf-d240036d111c",
   "metadata": {},
   "outputs": [],
   "source": [
    "import pandas as pd\n",
    "import matplotlib.pyplot as plt\n",
    "\n",
    "# adapte le chemin si besoin\n",
    "movies   = pd.read_csv(\"movies.csv\", sep=\"|\", header=None, names=[\n",
    "    \"id\",\"title\",\"date\",\"\",\"url\"] + [f\"genre{i}\" for i in range(19)]\n",
    ")\n",
    "# reconstruis la colonne genres en liste\n",
    "genre_cols = [c for c in movies.columns if c.startswith(\"genre\")]\n",
    "movies[\"genres\"] = movies[genre_cols].apply(\n",
    "    lambda row: [g for g,v in zip(\n",
    "        [\"Action\",\"Adventure\",\"Animation\",\"Children\",\"Comedy\",\"Crime\",\"Documentary\",\n",
    "         \"Drama\",\"Fantasy\",\"Film-Noir\",\"Horror\",\"Musical\",\"Mystery\",\"Romance\",\"Sci-Fi\",\n",
    "         \"Thriller\",\"War\",\"Western\",\"(no genres listed)\"], row) if v==1], axis=1\n",
    ")\n",
    "ratings = pd.read_csv(\"ratings.csv\", names=[\"user\",\"movie\",\"score\",\"timestamp\"])\n",
    "# enrichissement\n",
    "enriched = ratings.merge(movies[[\"id\",\"title\",\"genres\"]], left_on=\"movie\", right_on=\"id\")\n"
   ]
  },
  {
   "cell_type": "code",
   "execution_count": null,
   "id": "5aa2e385-a521-4893-9be9-d981e5ab2eec",
   "metadata": {},
   "outputs": [],
   "source": [
    "#CELL 2 - Volume & note moyenne par film"
   ]
  },
  {
   "cell_type": "code",
   "execution_count": null,
   "id": "afdf4772-ef45-4c4c-bc3c-0576b722bdb7",
   "metadata": {},
   "outputs": [],
   "source": [
    "stats = enriched.groupby(\"title\")[\"score\"] \\\n",
    "                .agg(count=\"count\", avg=\"mean\") \\\n",
    "                .sort_values(\"count\", ascending=False).head(20)\n",
    "stats.plot.bar(y=\"avg\", legend=False)\n",
    "plt.title(\"Top 20 films par nombre de notes et note moyenne\")\n",
    "plt.show()\n"
   ]
  },
  {
   "cell_type": "code",
   "execution_count": null,
   "id": "64d68cab-dae0-4371-8aad-23110408b964",
   "metadata": {},
   "outputs": [],
   "source": [
    "#CELL 3 - Distribution des notes"
   ]
  },
  {
   "cell_type": "code",
   "execution_count": null,
   "id": "2181bff6-67f6-44ea-8bb1-890e5a4a0e4d",
   "metadata": {},
   "outputs": [],
   "source": [
    "enriched[\"score\"].hist(bins=20)\n",
    "plt.title(\"Distribution des notes\")\n",
    "plt.xlabel(\"Note\")\n",
    "plt.ylabel(\"Fréquence\")\n",
    "plt.show()\n"
   ]
  },
  {
   "cell_type": "code",
   "execution_count": null,
   "id": "fcdae1fa-12aa-45dd-a54b-c470b57bee98",
   "metadata": {},
   "outputs": [],
   "source": [
    "#CELL 4 - Stats par genre"
   ]
  },
  {
   "cell_type": "code",
   "execution_count": null,
   "id": "bdd6a636-98e8-48a2-af1e-f97431adedda",
   "metadata": {},
   "outputs": [],
   "source": [
    "exploded = enriched.explode(\"genres\")\n",
    "g = exploded.groupby(\"genres\")[\"score\"] \\\n",
    "            .agg(count=\"count\", avg=\"mean\") \\\n",
    "            .sort_values(\"count\", ascending=False).head(10)\n",
    "g.plot.bar(y=\"avg\", legend=False)\n",
    "plt.title(\"Top 10 genres par nombre de notes et note moyenne\")\n",
    "plt.show()\n"
   ]
  },
  {
   "cell_type": "code",
   "execution_count": null,
   "id": "4dfaa92c-8ba2-4814-8077-0f992d851ea5",
   "metadata": {},
   "outputs": [],
   "source": []
  },
  {
   "cell_type": "code",
   "execution_count": null,
   "id": "a54ae3a7-aa14-4fa3-a808-0d657ec0c34d",
   "metadata": {},
   "outputs": [],
   "source": []
  },
  {
   "cell_type": "code",
   "execution_count": null,
   "id": "67af5d9b-6ca2-4dad-b0de-57ba3ac3957c",
   "metadata": {},
   "outputs": [],
   "source": []
  }
 ],
 "metadata": {
  "kernelspec": {
   "display_name": "Python 3 (ipykernel)",
   "language": "python",
   "name": "python3"
  },
  "language_info": {
   "codemirror_mode": {
    "name": "ipython",
    "version": 3
   },
   "file_extension": ".py",
   "mimetype": "text/x-python",
   "name": "python",
   "nbconvert_exporter": "python",
   "pygments_lexer": "ipython3",
   "version": "3.12.0"
  }
 },
 "nbformat": 4,
 "nbformat_minor": 5
}
